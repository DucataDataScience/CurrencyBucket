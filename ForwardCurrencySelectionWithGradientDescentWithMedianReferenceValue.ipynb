{
 "cells": [
  {
   "cell_type": "code",
   "execution_count": 1,
   "metadata": {
    "slideshow": {
     "slide_type": "-"
    }
   },
   "outputs": [
    {
     "data": {
      "text/plain": [
       "\"\\nDescription: Script to optimize Duca's currency mix.\\nAuthor: Jeroen van Dijk & Victor de Graaff\\nDate: 04-11-2020\\nMaintainer: Jeroen van Dijk & Victor de Graaff\\nEmail: jeroen.vandijk@d-data.nl & victor.degraaff@d-data.nl\\nStatus: Dev\\n\""
      ]
     },
     "execution_count": 1,
     "metadata": {},
     "output_type": "execute_result"
    }
   ],
   "source": [
    "\"\"\"\n",
    "Description: Script to optimize Duca's currency mix.\n",
    "Author: Jeroen van Dijk & Victor de Graaff\n",
    "Date: 04-11-2020\n",
    "Maintainer: Jeroen van Dijk & Victor de Graaff\n",
    "Email: jeroen.vandijk@d-data.nl & victor.degraaff@d-data.nl\n",
    "Status: Dev\n",
    "\"\"\""
   ]
  },
  {
   "cell_type": "code",
   "execution_count": 2,
   "metadata": {},
   "outputs": [],
   "source": [
    "# Load common imports\n",
    "%run ./CommonImports.ipynb"
   ]
  },
  {
   "cell_type": "code",
   "execution_count": 3,
   "metadata": {},
   "outputs": [],
   "source": [
    "# Load common functions and currencies lists:\n",
    "# - all_currencies\n",
    "# - obsolete_currencies\n",
    "# - p13_currencies\n",
    "# - f_currencies\n",
    "# - ff_currencies\n",
    "# - currencies_per_continent\n",
    "%run ./Utilities.ipynb"
   ]
  },
  {
   "cell_type": "code",
   "execution_count": 4,
   "metadata": {},
   "outputs": [],
   "source": [
    "# Load loss functions\n",
    "# - calculate_loss_function_around_one(weights)\n",
    "# - calculate_loss_function_vs_t_minus_one(weights)\n",
    "# - calculate_loss_function_vs_t_minus_one_with_balancing(weights)\n",
    "# - calculate_loss_function_vs_t_minus_one_for_period(weights, max_date)\n",
    "%run ./LossFunctions.ipynb"
   ]
  },
  {
   "cell_type": "code",
   "execution_count": null,
   "metadata": {},
   "outputs": [
    {
     "name": "stdout",
     "output_type": "stream",
     "text": [
      "Evaluating correlations using base currency CZK\n",
      "According to CZK EUR and HRK are highly corrolated: 0.9882185402623102\n",
      "set() {'HRK'}\n",
      "Evaluating correlations using base currency CHF\n",
      "According to CHF EUR and DKK are highly corrolated: 0.9999514621476165\n",
      "According to CHF USD and HKD are highly corrolated: 0.9997956628000464\n",
      "According to CHF EUR and RON are highly corrolated: 0.9862360542626356\n",
      "According to CHF NOK and RUB are highly corrolated: 0.9803307030132263\n",
      "set() {'DKK', 'HKD', 'RUB', 'RON', 'HRK'}\n",
      "Evaluating correlations using base currency TRY\n",
      "Evaluating correlations using base currency MYR\n",
      "{'TRY'} {'DKK', 'HKD', 'RUB', 'RON', 'HRK'}\n",
      "Evaluating correlations using base currency KRW\n",
      "{'TRY'} {'DKK', 'HKD', 'RUB', 'RON', 'HRK'}\n",
      "Evaluating correlations using base currency THB\n"
     ]
    }
   ],
   "source": [
    "from scipy.stats import pearsonr\n",
    "\n",
    "currency_pairs = [(c1, c2) for c1 in all_currencies for c2 in all_currencies if c1 > c2]\n",
    "\n",
    "highly_correlated_currencies = set()\n",
    "highly_unstable_currencies = set()\n",
    "\n",
    "for base_currency in all_currencies:\n",
    "    print(f\"Evaluating correlations using base currency {base_currency}\")\n",
    "    df = create_original_df(base_currency)\n",
    "    \n",
    "    median = np.median(np.array([pearsonr(df[c1], df[c2])[0] \n",
    "                                 for c1, c2 in currency_pairs \n",
    "                                 if c1 != base_currency and c2 != base_currency]))\n",
    "    \n",
    "    if median > .9:\n",
    "        highly_unstable_currencies.add(base_currency)\n",
    "        continue\n",
    "\n",
    "    for c1, c2 in currency_pairs:\n",
    "        if base_currency == c1 or base_currency == c2:\n",
    "            continue\n",
    "            \n",
    "        if c1 in highly_correlated_currencies or c2 in highly_correlated_currencies:\n",
    "            continue\n",
    "            \n",
    "        corr = pearsonr(df[c1], df[c2])[0]\n",
    "\n",
    "        if abs(corr) > .98:\n",
    "            if trading_volumes[c1] >= trading_volumes[c2] and \\\n",
    "               trading_volumes[base_currency] >= trading_volumes[c2]:\n",
    "                print(f\"According to {base_currency} {c1} and {c2} are highly corrolated:\", corr)\n",
    "                highly_correlated_currencies.add(c2)\n",
    "            elif trading_volumes[c2] >= trading_volumes[c1] and \\\n",
    "                 trading_volumes[base_currency] >= trading_volumes[c1]:\n",
    "                print(f\"According to {base_currency} {c2} and {c1} are highly corrolated:\", corr)\n",
    "                highly_correlated_currencies.add(c1)\n",
    "\n",
    "    print(highly_unstable_currencies, highly_correlated_currencies)\n",
    "    \n",
    "highly_unstable_currencies, highly_correlated_currencies"
   ]
  },
  {
   "cell_type": "code",
   "execution_count": null,
   "metadata": {},
   "outputs": [],
   "source": [
    "# Create dataframe with pre-defined base currency\n",
    "df = create_original_df(\"USD\")"
   ]
  },
  {
   "cell_type": "code",
   "execution_count": null,
   "metadata": {},
   "outputs": [],
   "source": [
    "# Determine splits for dev- (train and test) and validation set\n",
    "train_start = date(2005, 4, 1)\n",
    "test_start = date(2018, 1, 1)\n",
    "validation_start = date(2018, 1, 1)\n",
    "validation_end = date(2020, 10, 1)\n",
    "\n",
    "# Create dev (train and test) and validation set\n",
    "train, test, dev, val = split_data(df, train_start, test_start, validation_start, validation_end)"
   ]
  },
  {
   "cell_type": "code",
   "execution_count": null,
   "metadata": {},
   "outputs": [],
   "source": [
    "# Create exchange table for each currency\n",
    "exchange_table = dict()\n",
    "\n",
    "for base_currency in all_currencies:\n",
    "    exchange_table[base_currency] = 1 / train[all_currencies].divide(train[base_currency], axis=0)\n",
    "\n",
    "# Preview USD exchange table\n",
    "exchange_table[\"USD\"]"
   ]
  },
  {
   "cell_type": "markdown",
   "metadata": {},
   "source": [
    "### Set the reference_exchange_rate to the median w.r.t. the USD"
   ]
  },
  {
   "cell_type": "code",
   "execution_count": null,
   "metadata": {},
   "outputs": [],
   "source": [
    "candidate_currencies = [c for c in all_currencies if c not in highly_correlated_currencies and\n",
    "                                                     c not in highly_unstable_currencies]\n",
    "more_stable_currencies = [c for c in all_currencies if c not in highly_unstable_currencies]\n",
    "candidate_currencies.sort()\n",
    "\n",
    "reference_exhange_rate = train[more_stable_currencies].median()\n",
    "reference_exhange_rate"
   ]
  },
  {
   "cell_type": "code",
   "execution_count": null,
   "metadata": {},
   "outputs": [],
   "source": [
    "def run_optimization(selected_currencies, \n",
    "                     max_iter=100, \n",
    "                     loss_function=calculate_loss_function_around_one,\n",
    "                     reference_currencies=all_currencies):\n",
    "    starting_point = np.ones(len(selected_currencies))/len(selected_currencies)\n",
    "    bounds = [(0, 1) for _ in range(len(starting_point))]\n",
    "    \n",
    "    result = minimize(fun=loss_function, \n",
    "                      x0=starting_point, \n",
    "                      args=(selected_currencies, reference_currencies),\n",
    "                      bounds=bounds,\n",
    "                      options={\"disp\": True, \n",
    "                               \"maxiter\": max_iter})\n",
    "    \n",
    "    output = pd.Series(result.x/result.x.sum(), index=reference_exhange_rate.loc[selected_currencies].index)\n",
    "    output = output.sort_values(ascending=False)\n",
    "        \n",
    "    return output"
   ]
  },
  {
   "cell_type": "code",
   "execution_count": null,
   "metadata": {},
   "outputs": [],
   "source": [
    "def try_currencies(currencies_to_try, currencies, reference_currencies):\n",
    "    for currency in currencies_to_try:\n",
    "        if currency in currencies:\n",
    "            return None, 1\n",
    "\n",
    "    new_mix = run_optimization(selected_currencies=currencies + currencies_to_try, \n",
    "                               max_iter=100, \n",
    "                               loss_function=calculate_loss_function_around_one,\n",
    "                               reference_currencies=reference_currencies)\n",
    "\n",
    "    new_score = calculate_loss_function_around_one(new_mix, currencies + currencies_to_try, reference_currencies)\n",
    "\n",
    "    return new_mix, new_score"
   ]
  },
  {
   "cell_type": "code",
   "execution_count": null,
   "metadata": {},
   "outputs": [],
   "source": [
    "with open(\"logs/output-loss-function-on-more-stable-currencies-0_001-0_995.log\", \"a\") as output:\n",
    "    for currency in candidate_currencies:\n",
    "        selected_currencies_so_far = [currency]\n",
    "        best_score = 1\n",
    "        last_score = 1\n",
    "\n",
    "        while best_score == 1 or best_candidate is not None:\n",
    "            output.write(f\"Attempting to improve set, starting from: {selected_currencies_so_far}\\n\")\n",
    "            print(f\"Attempting to improve set, starting from: {selected_currencies_so_far}\")\n",
    "            best_candidate = None\n",
    "\n",
    "            for candidate_currency in candidate_currencies:\n",
    "                new_mix, new_score = try_currencies([candidate_currency], \n",
    "                                                    selected_currencies_so_far, \n",
    "                                                    more_stable_currencies)\n",
    "\n",
    "                if (new_score < .995 * last_score) and (new_score < best_score):\n",
    "                    best_score = new_score\n",
    "                    best_candidate = candidate_currency\n",
    "\n",
    "            last_score = best_score\n",
    "\n",
    "            if best_candidate is not None:\n",
    "                selected_currencies_so_far += [best_candidate]\n",
    "                \n",
    "            if len(selected_currencies_so_far) == 7:\n",
    "                # Let's make sure this process ever finishes\n",
    "                break\n",
    "\n",
    "        output.write(f\"Best set: {selected_currencies_so_far} ({best_score})\\n\")\n",
    "        print(f\"Best set: {selected_currencies_so_far} ({best_score})\")"
   ]
  },
  {
   "cell_type": "code",
   "execution_count": 14,
   "metadata": {},
   "outputs": [],
   "source": [
    "selected_currencies = ['JPY', 'USD', 'EUR', 'NZD', 'KRW', 'CNY', 'GBP']\n",
    "new_mix, new_score = try_currencies([], \n",
    "                                    selected_currencies, \n",
    "                                    more_stable_currencies)"
   ]
  },
  {
   "cell_type": "code",
   "execution_count": 15,
   "metadata": {},
   "outputs": [
    {
     "data": {
      "text/plain": [
       "(USD   28.88000\n",
       " EUR   20.06000\n",
       " JPY   14.83000\n",
       " GBP   12.48000\n",
       " KRW   10.85000\n",
       " CNY   10.51000\n",
       " NZD    2.39000\n",
       " dtype: float64,\n",
       " 0.010239016950012721)"
      ]
     },
     "execution_count": 15,
     "metadata": {},
     "output_type": "execute_result"
    }
   ],
   "source": [
    "(new_mix * 100).map(lambda x: round(x, 2)), new_score"
   ]
  },
  {
   "cell_type": "code",
   "execution_count": 37,
   "metadata": {},
   "outputs": [],
   "source": [
    "duca_mix = new_mix\n",
    "\n",
    "duca_mix.index.name = \"currency\"\n",
    "duca_mix.name = \"weight\"\n",
    "duca_mix = duca_mix.map(lambda x: round(x, 4))\n",
    "duca_mix.to_csv(\"duca_mix.csv\", sep=\";\")"
   ]
  },
  {
   "cell_type": "code",
   "execution_count": 27,
   "metadata": {},
   "outputs": [
    {
     "data": {
      "text/plain": [
       "\u001b[0;31mSignature:\u001b[0m\n",
       "\u001b[0mcalculate_loss_function_around_one\u001b[0m\u001b[0;34m(\u001b[0m\u001b[0;34m\u001b[0m\n",
       "\u001b[0;34m\u001b[0m    \u001b[0mweights\u001b[0m\u001b[0;34m,\u001b[0m\u001b[0;34m\u001b[0m\n",
       "\u001b[0;34m\u001b[0m    \u001b[0mselected_currencies\u001b[0m\u001b[0;34m,\u001b[0m\u001b[0;34m\u001b[0m\n",
       "\u001b[0;34m\u001b[0m    \u001b[0mreference_currencies\u001b[0m\u001b[0;34m,\u001b[0m\u001b[0;34m\u001b[0m\n",
       "\u001b[0;34m\u001b[0m\u001b[0;34m)\u001b[0m\u001b[0;34m\u001b[0m\u001b[0;34m\u001b[0m\u001b[0m\n",
       "\u001b[0;31mDocstring:\u001b[0m <no docstring>\n",
       "\u001b[0;31mFile:\u001b[0m      /opt/app/data/CurrencyBucket/<ipython-input-12-efbd4238dfcb>\n",
       "\u001b[0;31mType:\u001b[0m      function\n"
      ]
     },
     "metadata": {},
     "output_type": "display_data"
    }
   ],
   "source": [
    "calculate_loss_function_around_one?"
   ]
  },
  {
   "cell_type": "markdown",
   "metadata": {},
   "source": [
    "### Comparison and validation"
   ]
  },
  {
   "cell_type": "markdown",
   "metadata": {},
   "source": [
    "#### Development set"
   ]
  },
  {
   "cell_type": "code",
   "execution_count": 31,
   "metadata": {},
   "outputs": [
    {
     "data": {
      "text/plain": [
       "0.010396552497994496"
      ]
     },
     "execution_count": 31,
     "metadata": {},
     "output_type": "execute_result"
    }
   ],
   "source": [
    "libra_mix = get_libra_mix(all_currencies)\n",
    "\n",
    "calculate_loss_function_around_one(libra_mix,\n",
    "                                   selected_currencies=libra_mix.index,\n",
    "                                   reference_currencies=more_stable_currencies)"
   ]
  },
  {
   "cell_type": "code",
   "execution_count": 33,
   "metadata": {},
   "outputs": [
    {
     "data": {
      "text/plain": [
       "0.01048454497936993"
      ]
     },
     "execution_count": 33,
     "metadata": {},
     "output_type": "execute_result"
    }
   ],
   "source": [
    "sdr_mix = get_sdr_mix(all_currencies)\n",
    "\n",
    "calculate_loss_function_around_one(sdr_mix,\n",
    "                                   selected_currencies=sdr_mix.index,\n",
    "                                   reference_currencies=more_stable_currencies)"
   ]
  },
  {
   "cell_type": "markdown",
   "metadata": {},
   "source": [
    "#### Validation set"
   ]
  },
  {
   "cell_type": "code",
   "execution_count": 36,
   "metadata": {},
   "outputs": [
    {
     "data": {
      "text/html": [
       "<div>\n",
       "<style scoped>\n",
       "    .dataframe tbody tr th:only-of-type {\n",
       "        vertical-align: middle;\n",
       "    }\n",
       "\n",
       "    .dataframe tbody tr th {\n",
       "        vertical-align: top;\n",
       "    }\n",
       "\n",
       "    .dataframe thead th {\n",
       "        text-align: right;\n",
       "    }\n",
       "</style>\n",
       "<table border=\"1\" class=\"dataframe\">\n",
       "  <thead>\n",
       "    <tr style=\"text-align: right;\">\n",
       "      <th></th>\n",
       "      <th>SGD</th>\n",
       "      <th>HRK</th>\n",
       "      <th>AUD</th>\n",
       "      <th>JPY</th>\n",
       "      <th>TRY</th>\n",
       "      <th>HUF</th>\n",
       "      <th>PHP</th>\n",
       "      <th>THB</th>\n",
       "      <th>USD</th>\n",
       "      <th>IDR</th>\n",
       "      <th>HKD</th>\n",
       "      <th>SEK</th>\n",
       "      <th>CZK</th>\n",
       "      <th>PLN</th>\n",
       "      <th>ZAR</th>\n",
       "      <th>RUB</th>\n",
       "      <th>DKK</th>\n",
       "      <th>MYR</th>\n",
       "      <th>RON</th>\n",
       "      <th>CNY</th>\n",
       "      <th>CAD</th>\n",
       "      <th>NOK</th>\n",
       "      <th>KRW</th>\n",
       "      <th>CHF</th>\n",
       "      <th>GBP</th>\n",
       "      <th>NZD</th>\n",
       "      <th>EUR</th>\n",
       "    </tr>\n",
       "    <tr>\n",
       "      <th>date</th>\n",
       "      <th></th>\n",
       "      <th></th>\n",
       "      <th></th>\n",
       "      <th></th>\n",
       "      <th></th>\n",
       "      <th></th>\n",
       "      <th></th>\n",
       "      <th></th>\n",
       "      <th></th>\n",
       "      <th></th>\n",
       "      <th></th>\n",
       "      <th></th>\n",
       "      <th></th>\n",
       "      <th></th>\n",
       "      <th></th>\n",
       "      <th></th>\n",
       "      <th></th>\n",
       "      <th></th>\n",
       "      <th></th>\n",
       "      <th></th>\n",
       "      <th></th>\n",
       "      <th></th>\n",
       "      <th></th>\n",
       "      <th></th>\n",
       "      <th></th>\n",
       "      <th></th>\n",
       "      <th></th>\n",
       "    </tr>\n",
       "  </thead>\n",
       "  <tbody>\n",
       "    <tr>\n",
       "      <th>2018-01-01</th>\n",
       "      <td>0.75156</td>\n",
       "      <td>0.16153</td>\n",
       "      <td>0.78246</td>\n",
       "      <td>0.00891</td>\n",
       "      <td>0.26552</td>\n",
       "      <td>0.00390</td>\n",
       "      <td>0.02006</td>\n",
       "      <td>0.03080</td>\n",
       "      <td>1.00000</td>\n",
       "      <td>0.00007</td>\n",
       "      <td>0.12797</td>\n",
       "      <td>0.12253</td>\n",
       "      <td>0.04724</td>\n",
       "      <td>0.28912</td>\n",
       "      <td>0.08098</td>\n",
       "      <td>0.01741</td>\n",
       "      <td>0.16184</td>\n",
       "      <td>0.24836</td>\n",
       "      <td>0.25885</td>\n",
       "      <td>0.15393</td>\n",
       "      <td>0.79751</td>\n",
       "      <td>0.12304</td>\n",
       "      <td>0.00094</td>\n",
       "      <td>1.02843</td>\n",
       "      <td>1.35519</td>\n",
       "      <td>0.71163</td>\n",
       "      <td>1.20470</td>\n",
       "    </tr>\n",
       "    <tr>\n",
       "      <th>2018-01-02</th>\n",
       "      <td>0.75260</td>\n",
       "      <td>0.16164</td>\n",
       "      <td>0.78278</td>\n",
       "      <td>0.00891</td>\n",
       "      <td>0.26610</td>\n",
       "      <td>0.00391</td>\n",
       "      <td>0.02006</td>\n",
       "      <td>0.03084</td>\n",
       "      <td>1.00000</td>\n",
       "      <td>0.00007</td>\n",
       "      <td>0.12797</td>\n",
       "      <td>0.12276</td>\n",
       "      <td>0.04732</td>\n",
       "      <td>0.28979</td>\n",
       "      <td>0.08097</td>\n",
       "      <td>0.01746</td>\n",
       "      <td>0.16208</td>\n",
       "      <td>0.24879</td>\n",
       "      <td>0.25932</td>\n",
       "      <td>0.15401</td>\n",
       "      <td>0.79753</td>\n",
       "      <td>0.12343</td>\n",
       "      <td>0.00094</td>\n",
       "      <td>1.02961</td>\n",
       "      <td>1.35633</td>\n",
       "      <td>0.71159</td>\n",
       "      <td>1.20650</td>\n",
       "    </tr>\n",
       "    <tr>\n",
       "      <th>2018-01-03</th>\n",
       "      <td>0.75200</td>\n",
       "      <td>0.16158</td>\n",
       "      <td>0.78382</td>\n",
       "      <td>0.00891</td>\n",
       "      <td>0.26539</td>\n",
       "      <td>0.00389</td>\n",
       "      <td>0.02004</td>\n",
       "      <td>0.03074</td>\n",
       "      <td>1.00000</td>\n",
       "      <td>0.00007</td>\n",
       "      <td>0.12792</td>\n",
       "      <td>0.12237</td>\n",
       "      <td>0.04707</td>\n",
       "      <td>0.28865</td>\n",
       "      <td>0.08078</td>\n",
       "      <td>0.01740</td>\n",
       "      <td>0.16151</td>\n",
       "      <td>0.24907</td>\n",
       "      <td>0.25937</td>\n",
       "      <td>0.15381</td>\n",
       "      <td>0.79903</td>\n",
       "      <td>0.12339</td>\n",
       "      <td>0.00094</td>\n",
       "      <td>1.02445</td>\n",
       "      <td>1.35639</td>\n",
       "      <td>0.70966</td>\n",
       "      <td>1.20230</td>\n",
       "    </tr>\n",
       "    <tr>\n",
       "      <th>2018-01-04</th>\n",
       "      <td>0.75204</td>\n",
       "      <td>0.16226</td>\n",
       "      <td>0.78354</td>\n",
       "      <td>0.00888</td>\n",
       "      <td>0.26594</td>\n",
       "      <td>0.00391</td>\n",
       "      <td>0.02009</td>\n",
       "      <td>0.03104</td>\n",
       "      <td>1.00000</td>\n",
       "      <td>0.00007</td>\n",
       "      <td>0.12791</td>\n",
       "      <td>0.12284</td>\n",
       "      <td>0.04729</td>\n",
       "      <td>0.29034</td>\n",
       "      <td>0.08126</td>\n",
       "      <td>0.01750</td>\n",
       "      <td>0.16206</td>\n",
       "      <td>0.24925</td>\n",
       "      <td>0.26064</td>\n",
       "      <td>0.15393</td>\n",
       "      <td>0.79827</td>\n",
       "      <td>0.12355</td>\n",
       "      <td>0.00094</td>\n",
       "      <td>1.02567</td>\n",
       "      <td>1.35405</td>\n",
       "      <td>0.71151</td>\n",
       "      <td>1.20650</td>\n",
       "    </tr>\n",
       "    <tr>\n",
       "      <th>2018-01-05</th>\n",
       "      <td>0.75314</td>\n",
       "      <td>0.16200</td>\n",
       "      <td>0.78413</td>\n",
       "      <td>0.00883</td>\n",
       "      <td>0.26691</td>\n",
       "      <td>0.00390</td>\n",
       "      <td>0.02005</td>\n",
       "      <td>0.03107</td>\n",
       "      <td>1.00000</td>\n",
       "      <td>0.00007</td>\n",
       "      <td>0.12788</td>\n",
       "      <td>0.12251</td>\n",
       "      <td>0.04706</td>\n",
       "      <td>0.28986</td>\n",
       "      <td>0.08090</td>\n",
       "      <td>0.01751</td>\n",
       "      <td>0.16177</td>\n",
       "      <td>0.25000</td>\n",
       "      <td>0.25986</td>\n",
       "      <td>0.15412</td>\n",
       "      <td>0.79938</td>\n",
       "      <td>0.12364</td>\n",
       "      <td>0.00094</td>\n",
       "      <td>1.02450</td>\n",
       "      <td>1.35515</td>\n",
       "      <td>0.71539</td>\n",
       "      <td>1.20450</td>\n",
       "    </tr>\n",
       "    <tr>\n",
       "      <th>...</th>\n",
       "      <td>...</td>\n",
       "      <td>...</td>\n",
       "      <td>...</td>\n",
       "      <td>...</td>\n",
       "      <td>...</td>\n",
       "      <td>...</td>\n",
       "      <td>...</td>\n",
       "      <td>...</td>\n",
       "      <td>...</td>\n",
       "      <td>...</td>\n",
       "      <td>...</td>\n",
       "      <td>...</td>\n",
       "      <td>...</td>\n",
       "      <td>...</td>\n",
       "      <td>...</td>\n",
       "      <td>...</td>\n",
       "      <td>...</td>\n",
       "      <td>...</td>\n",
       "      <td>...</td>\n",
       "      <td>...</td>\n",
       "      <td>...</td>\n",
       "      <td>...</td>\n",
       "      <td>...</td>\n",
       "      <td>...</td>\n",
       "      <td>...</td>\n",
       "      <td>...</td>\n",
       "      <td>...</td>\n",
       "    </tr>\n",
       "    <tr>\n",
       "      <th>2020-09-26</th>\n",
       "      <td>0.72678</td>\n",
       "      <td>0.15427</td>\n",
       "      <td>0.70427</td>\n",
       "      <td>0.00948</td>\n",
       "      <td>0.13013</td>\n",
       "      <td>0.00320</td>\n",
       "      <td>0.02062</td>\n",
       "      <td>0.03161</td>\n",
       "      <td>1.00000</td>\n",
       "      <td>0.00007</td>\n",
       "      <td>0.12903</td>\n",
       "      <td>0.10972</td>\n",
       "      <td>0.04295</td>\n",
       "      <td>0.25574</td>\n",
       "      <td>0.05853</td>\n",
       "      <td>0.01282</td>\n",
       "      <td>0.15640</td>\n",
       "      <td>0.23980</td>\n",
       "      <td>0.23889</td>\n",
       "      <td>0.14654</td>\n",
       "      <td>0.74750</td>\n",
       "      <td>0.10477</td>\n",
       "      <td>0.00085</td>\n",
       "      <td>1.07793</td>\n",
       "      <td>1.27887</td>\n",
       "      <td>0.65546</td>\n",
       "      <td>1.16460</td>\n",
       "    </tr>\n",
       "    <tr>\n",
       "      <th>2020-09-27</th>\n",
       "      <td>0.72744</td>\n",
       "      <td>0.15442</td>\n",
       "      <td>0.70549</td>\n",
       "      <td>0.00948</td>\n",
       "      <td>0.12912</td>\n",
       "      <td>0.00320</td>\n",
       "      <td>0.02061</td>\n",
       "      <td>0.03159</td>\n",
       "      <td>1.00000</td>\n",
       "      <td>0.00007</td>\n",
       "      <td>0.12903</td>\n",
       "      <td>0.10998</td>\n",
       "      <td>0.04298</td>\n",
       "      <td>0.25611</td>\n",
       "      <td>0.05860</td>\n",
       "      <td>0.01276</td>\n",
       "      <td>0.15657</td>\n",
       "      <td>0.23964</td>\n",
       "      <td>0.23916</td>\n",
       "      <td>0.14666</td>\n",
       "      <td>0.74731</td>\n",
       "      <td>0.10515</td>\n",
       "      <td>0.00085</td>\n",
       "      <td>1.07845</td>\n",
       "      <td>1.28411</td>\n",
       "      <td>0.65571</td>\n",
       "      <td>1.16580</td>\n",
       "    </tr>\n",
       "    <tr>\n",
       "      <th>2020-09-28</th>\n",
       "      <td>0.72810</td>\n",
       "      <td>0.15457</td>\n",
       "      <td>0.70672</td>\n",
       "      <td>0.00949</td>\n",
       "      <td>0.12814</td>\n",
       "      <td>0.00320</td>\n",
       "      <td>0.02061</td>\n",
       "      <td>0.03157</td>\n",
       "      <td>1.00000</td>\n",
       "      <td>0.00007</td>\n",
       "      <td>0.12903</td>\n",
       "      <td>0.11024</td>\n",
       "      <td>0.04301</td>\n",
       "      <td>0.25647</td>\n",
       "      <td>0.05867</td>\n",
       "      <td>0.01271</td>\n",
       "      <td>0.15673</td>\n",
       "      <td>0.23949</td>\n",
       "      <td>0.23942</td>\n",
       "      <td>0.14677</td>\n",
       "      <td>0.74712</td>\n",
       "      <td>0.10553</td>\n",
       "      <td>0.00086</td>\n",
       "      <td>1.07896</td>\n",
       "      <td>1.28939</td>\n",
       "      <td>0.65595</td>\n",
       "      <td>1.16700</td>\n",
       "    </tr>\n",
       "    <tr>\n",
       "      <th>2020-09-29</th>\n",
       "      <td>0.73055</td>\n",
       "      <td>0.15497</td>\n",
       "      <td>0.71301</td>\n",
       "      <td>0.00947</td>\n",
       "      <td>0.12768</td>\n",
       "      <td>0.00320</td>\n",
       "      <td>0.02064</td>\n",
       "      <td>0.03164</td>\n",
       "      <td>1.00000</td>\n",
       "      <td>0.00007</td>\n",
       "      <td>0.12903</td>\n",
       "      <td>0.11108</td>\n",
       "      <td>0.04310</td>\n",
       "      <td>0.25755</td>\n",
       "      <td>0.05890</td>\n",
       "      <td>0.01270</td>\n",
       "      <td>0.15716</td>\n",
       "      <td>0.24059</td>\n",
       "      <td>0.24018</td>\n",
       "      <td>0.14668</td>\n",
       "      <td>0.74749</td>\n",
       "      <td>0.10586</td>\n",
       "      <td>0.00086</td>\n",
       "      <td>1.08402</td>\n",
       "      <td>1.28646</td>\n",
       "      <td>0.65930</td>\n",
       "      <td>1.17020</td>\n",
       "    </tr>\n",
       "    <tr>\n",
       "      <th>2020-09-30</th>\n",
       "      <td>0.73015</td>\n",
       "      <td>0.15494</td>\n",
       "      <td>0.71225</td>\n",
       "      <td>0.00946</td>\n",
       "      <td>0.12867</td>\n",
       "      <td>0.00320</td>\n",
       "      <td>0.02062</td>\n",
       "      <td>0.03158</td>\n",
       "      <td>1.00000</td>\n",
       "      <td>0.00007</td>\n",
       "      <td>0.12903</td>\n",
       "      <td>0.11075</td>\n",
       "      <td>0.04299</td>\n",
       "      <td>0.25753</td>\n",
       "      <td>0.05940</td>\n",
       "      <td>0.01276</td>\n",
       "      <td>0.15723</td>\n",
       "      <td>0.24064</td>\n",
       "      <td>0.24029</td>\n",
       "      <td>0.14686</td>\n",
       "      <td>0.74687</td>\n",
       "      <td>0.10547</td>\n",
       "      <td>0.00086</td>\n",
       "      <td>1.08367</td>\n",
       "      <td>1.28328</td>\n",
       "      <td>0.65779</td>\n",
       "      <td>1.17080</td>\n",
       "    </tr>\n",
       "  </tbody>\n",
       "</table>\n",
       "<p>1004 rows × 27 columns</p>\n",
       "</div>"
      ],
      "text/plain": [
       "               SGD     HRK     AUD     JPY     TRY     HUF     PHP     THB     USD     IDR     HKD     SEK     CZK     PLN     ZAR     RUB     DKK     MYR     RON     CNY     CAD     NOK     KRW     CHF     GBP     NZD     EUR\n",
       "date                                                                                                                                                                                                                              \n",
       "2018-01-01 0.75156 0.16153 0.78246 0.00891 0.26552 0.00390 0.02006 0.03080 1.00000 0.00007 0.12797 0.12253 0.04724 0.28912 0.08098 0.01741 0.16184 0.24836 0.25885 0.15393 0.79751 0.12304 0.00094 1.02843 1.35519 0.71163 1.20470\n",
       "2018-01-02 0.75260 0.16164 0.78278 0.00891 0.26610 0.00391 0.02006 0.03084 1.00000 0.00007 0.12797 0.12276 0.04732 0.28979 0.08097 0.01746 0.16208 0.24879 0.25932 0.15401 0.79753 0.12343 0.00094 1.02961 1.35633 0.71159 1.20650\n",
       "2018-01-03 0.75200 0.16158 0.78382 0.00891 0.26539 0.00389 0.02004 0.03074 1.00000 0.00007 0.12792 0.12237 0.04707 0.28865 0.08078 0.01740 0.16151 0.24907 0.25937 0.15381 0.79903 0.12339 0.00094 1.02445 1.35639 0.70966 1.20230\n",
       "2018-01-04 0.75204 0.16226 0.78354 0.00888 0.26594 0.00391 0.02009 0.03104 1.00000 0.00007 0.12791 0.12284 0.04729 0.29034 0.08126 0.01750 0.16206 0.24925 0.26064 0.15393 0.79827 0.12355 0.00094 1.02567 1.35405 0.71151 1.20650\n",
       "2018-01-05 0.75314 0.16200 0.78413 0.00883 0.26691 0.00390 0.02005 0.03107 1.00000 0.00007 0.12788 0.12251 0.04706 0.28986 0.08090 0.01751 0.16177 0.25000 0.25986 0.15412 0.79938 0.12364 0.00094 1.02450 1.35515 0.71539 1.20450\n",
       "...            ...     ...     ...     ...     ...     ...     ...     ...     ...     ...     ...     ...     ...     ...     ...     ...     ...     ...     ...     ...     ...     ...     ...     ...     ...     ...     ...\n",
       "2020-09-26 0.72678 0.15427 0.70427 0.00948 0.13013 0.00320 0.02062 0.03161 1.00000 0.00007 0.12903 0.10972 0.04295 0.25574 0.05853 0.01282 0.15640 0.23980 0.23889 0.14654 0.74750 0.10477 0.00085 1.07793 1.27887 0.65546 1.16460\n",
       "2020-09-27 0.72744 0.15442 0.70549 0.00948 0.12912 0.00320 0.02061 0.03159 1.00000 0.00007 0.12903 0.10998 0.04298 0.25611 0.05860 0.01276 0.15657 0.23964 0.23916 0.14666 0.74731 0.10515 0.00085 1.07845 1.28411 0.65571 1.16580\n",
       "2020-09-28 0.72810 0.15457 0.70672 0.00949 0.12814 0.00320 0.02061 0.03157 1.00000 0.00007 0.12903 0.11024 0.04301 0.25647 0.05867 0.01271 0.15673 0.23949 0.23942 0.14677 0.74712 0.10553 0.00086 1.07896 1.28939 0.65595 1.16700\n",
       "2020-09-29 0.73055 0.15497 0.71301 0.00947 0.12768 0.00320 0.02064 0.03164 1.00000 0.00007 0.12903 0.11108 0.04310 0.25755 0.05890 0.01270 0.15716 0.24059 0.24018 0.14668 0.74749 0.10586 0.00086 1.08402 1.28646 0.65930 1.17020\n",
       "2020-09-30 0.73015 0.15494 0.71225 0.00946 0.12867 0.00320 0.02062 0.03158 1.00000 0.00007 0.12903 0.11075 0.04299 0.25753 0.05940 0.01276 0.15723 0.24064 0.24029 0.14686 0.74687 0.10547 0.00086 1.08367 1.28328 0.65779 1.17080\n",
       "\n",
       "[1004 rows x 27 columns]"
      ]
     },
     "execution_count": 36,
     "metadata": {},
     "output_type": "execute_result"
    }
   ],
   "source": [
    "# Create exchange table for each currency\n",
    "exchange_table = dict()\n",
    "for base_currency in all_currencies:\n",
    "    exchange_table[base_currency] = 1/val[all_currencies].divide(val[base_currency], axis=0)\n",
    "\n",
    "# Preview USD exchange table\n",
    "exchange_table[\"USD\"]"
   ]
  },
  {
   "cell_type": "code",
   "execution_count": 38,
   "metadata": {},
   "outputs": [
    {
     "data": {
      "text/plain": [
       "0.01874640510450694"
      ]
     },
     "execution_count": 38,
     "metadata": {},
     "output_type": "execute_result"
    }
   ],
   "source": [
    "calculate_loss_function_around_one(duca_mix,\n",
    "                                   selected_currencies=duca_mix.index,\n",
    "                                   reference_currencies=more_stable_currencies)"
   ]
  },
  {
   "cell_type": "code",
   "execution_count": 39,
   "metadata": {},
   "outputs": [
    {
     "data": {
      "text/plain": [
       "0.019043172930094672"
      ]
     },
     "execution_count": 39,
     "metadata": {},
     "output_type": "execute_result"
    }
   ],
   "source": [
    "calculate_loss_function_around_one(libra_mix,\n",
    "                                   selected_currencies=libra_mix.index,\n",
    "                                   reference_currencies=more_stable_currencies)"
   ]
  },
  {
   "cell_type": "code",
   "execution_count": 40,
   "metadata": {},
   "outputs": [
    {
     "data": {
      "text/plain": [
       "0.01910046574220742"
      ]
     },
     "execution_count": 40,
     "metadata": {},
     "output_type": "execute_result"
    }
   ],
   "source": [
    "calculate_loss_function_around_one(sdr_mix,\n",
    "                                   selected_currencies=sdr_mix.index,\n",
    "                                   reference_currencies=more_stable_currencies)"
   ]
  }
 ],
 "metadata": {
  "kernelspec": {
   "display_name": "Python 3",
   "language": "python",
   "name": "python3"
  },
  "language_info": {
   "codemirror_mode": {
    "name": "ipython",
    "version": 3
   },
   "file_extension": ".py",
   "mimetype": "text/x-python",
   "name": "python",
   "nbconvert_exporter": "python",
   "pygments_lexer": "ipython3",
   "version": "3.9.0"
  }
 },
 "nbformat": 4,
 "nbformat_minor": 4
}
