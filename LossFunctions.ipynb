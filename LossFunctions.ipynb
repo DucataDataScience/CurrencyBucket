{
 "cells": [
  {
   "cell_type": "code",
   "execution_count": 1,
   "metadata": {},
   "outputs": [],
   "source": [
    "# Load common imports\n",
    "%run ./CommonImports.ipynb"
   ]
  },
  {
   "cell_type": "code",
   "execution_count": 2,
   "metadata": {},
   "outputs": [],
   "source": [
    "# Loss function 1\n",
    "def calculate_loss_function_around_one(weights):\n",
    "    weights = weights / weights.sum()\n",
    "    amounts = weights * reference_date_exhange_rate\n",
    "\n",
    "    # TODO: penalize large coefficients?\n",
    "    loss_function_score = 0\n",
    "\n",
    "    for base_currency in currencies:\n",
    "        amounts_through_time = amounts * exchange_table[base_currency]\n",
    "        normalized_amounts_through_time = amounts_through_time.sum(axis=1) / reference_date_exhange_rate[base_currency]\n",
    "        \n",
    "        # TODO: other possibilities for loss functions:\n",
    "        # - Mean Absolute Error MAE\n",
    "        # - Root Mean Squared Error RMSE\n",
    "        # - Time-series related loss functions (research)\n",
    "        \n",
    "        deviation = np.log(normalized_amounts_through_time)\n",
    "        loss_function_score += (deviation**2).mean()\n",
    "    \n",
    "    return loss_function_score"
   ]
  },
  {
   "cell_type": "code",
   "execution_count": 3,
   "metadata": {},
   "outputs": [],
   "source": [
    "# Loss function 2\n",
    "def calculate_loss_function_vs_t_minus_one(weights):\n",
    "    weights = weights / weights.sum()\n",
    "    amounts = weights * reference_date_exhange_rate.loc[p13_currencies]\n",
    "\n",
    "    loss_function_score = 0\n",
    "\n",
    "    for base_currency in p13_currencies:\n",
    "        amounts_through_time = (amounts * exchange_table[base_currency]).sum(axis=1)\n",
    "        loss_function_score += (np.abs(amounts_through_time - amounts_through_time.shift(1))/amounts_through_time).mean()\n",
    "\n",
    "    return loss_function_score"
   ]
  },
  {
   "cell_type": "code",
   "execution_count": 4,
   "metadata": {},
   "outputs": [],
   "source": [
    "# Loss function 3\n",
    "def calculate_loss_function_vs_t_minus_one_with_balancing(weights, currencies):\n",
    "#     print(\"evaluate\")\n",
    "    \n",
    "    # Ensure we never deviate from 100% total, and only use positive numbers\n",
    "    weights = np.abs(weights) / np.abs(weights).sum()  \n",
    "    \n",
    "    # Calculate the weights after rebalancing for each month\n",
    "    amounts_by_month = {month: weights / this_day_by_month[\"EUR\"][month].iloc[0][currencies] for month in months}\n",
    "    \n",
    "    # Calculate the loss function per base currency, per month\n",
    "    return sum([sum([(amounts_by_month[month] * diff_by_month[base_currency][month]).sum(axis=1).sum() for month in months]) \n",
    "                for base_currency in currencies])"
   ]
  },
  {
   "cell_type": "code",
   "execution_count": 5,
   "metadata": {},
   "outputs": [],
   "source": [
    "# Loss function 4\n",
    "def calculate_loss_function_vs_t_minus_one_for_period(weights, max_date):\n",
    "    weights = weights / weights.sum()\n",
    "    amounts = weights * reference_date_exhange_rate.loc[p13_currencies]\n",
    "\n",
    "    loss_function_score= 0\n",
    "\n",
    "    for base_currency in p13_currencies:\n",
    "        amounts_through_time = (amounts * exchange_table[base_currency].loc[:max_date]).sum(axis=1)\n",
    "        loss_function_score += (np.abs(amounts_through_time - amounts_through_time.shift(1))/amounts_through_time).mean()\n",
    "\n",
    "    return loss_function_score"
   ]
  }
 ],
 "metadata": {
  "kernelspec": {
   "display_name": "Python 3",
   "language": "python",
   "name": "python3"
  },
  "language_info": {
   "codemirror_mode": {
    "name": "ipython",
    "version": 3
   },
   "file_extension": ".py",
   "mimetype": "text/x-python",
   "name": "python",
   "nbconvert_exporter": "python",
   "pygments_lexer": "ipython3",
   "version": "3.9.0"
  }
 },
 "nbformat": 4,
 "nbformat_minor": 4
}
