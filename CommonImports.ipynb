{
 "cells": [
  {
   "cell_type": "code",
   "execution_count": 2,
   "metadata": {},
   "outputs": [],
   "source": [
    "import matplotlib.pyplot as plt\n",
    "import numpy as np\n",
    "import pandas as pd\n",
    "import yfinance as yf\n",
    "import time\n",
    "\n",
    "from collections import defaultdict\n",
    "from currency_converter import CurrencyConverter\n",
    "from datetime import timedelta, date, datetime\n",
    "from scipy.optimize import minimize\n",
    "\n",
    "# Set notebook options\n",
    "pd.set_option('display.max_rows', 50)\n",
    "pd.set_option('display.max_columns', 43)\n",
    "pd.set_option('display.width', 800)\n",
    "pd.set_option('display.max_colwidth', 15)\n",
    "pd.set_option('display.precision', 3)"
   ]
  }
 ],
 "metadata": {
  "kernelspec": {
   "display_name": "Python 3",
   "language": "python",
   "name": "python3"
  },
  "language_info": {
   "codemirror_mode": {
    "name": "ipython",
    "version": 3
   },
   "file_extension": ".py",
   "mimetype": "text/x-python",
   "name": "python",
   "nbconvert_exporter": "python",
   "pygments_lexer": "ipython3",
   "version": "3.9.0"
  }
 },
 "nbformat": 4,
 "nbformat_minor": 4
}
